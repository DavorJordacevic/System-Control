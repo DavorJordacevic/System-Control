{
 "cells": [
  {
   "cell_type": "code",
   "execution_count": 1,
   "metadata": {
    "collapsed": true
   },
   "outputs": [],
   "source": [
    "import numpy as np;\n",
    "import scipy as sp;\n",
    "import matplotlib.pyplot as plt\n",
    "from scipy import signal"
   ]
  },
  {
   "cell_type": "code",
   "execution_count": 2,
   "metadata": {
    "collapsed": true
   },
   "outputs": [],
   "source": [
    "# Odrediti razvoj u parcijalne razlomske funkcije prenosa: G(s)=(s+10)(s^2+s+25)/s^2(s+3)(s^2+s+36)"
   ]
  },
  {
   "cell_type": "code",
   "execution_count": 3,
   "metadata": {
    "collapsed": true
   },
   "outputs": [],
   "source": [
    "brojilac=sp.convolve([1, 10],[1, 1,25])\n",
    "imenilac=sp.convolve(sp.convolve([1, 0, 0],[1,3]),[1, 1,36])\n",
    "r,p,k=signal.residue(brojilac, imenilac)"
   ]
  },
  {
   "cell_type": "code",
   "execution_count": 4,
   "metadata": {},
   "outputs": [
    {
     "data": {
      "text/plain": [
       "array([-0.51183128+0.j        ,  2.31481481+0.j        ,\n",
       "        0.57407407+0.j        , -0.03112140-0.03146662j,\n",
       "       -0.03112140+0.03146662j])"
      ]
     },
     "execution_count": 4,
     "metadata": {},
     "output_type": "execute_result"
    }
   ],
   "source": [
    "r"
   ]
  },
  {
   "cell_type": "code",
   "execution_count": 5,
   "metadata": {},
   "outputs": [
    {
     "data": {
      "text/plain": [
       "array([ 0.0+0.j        ,  0.0+0.j        , -3.0+0.j        ,\n",
       "       -0.5+5.97913037j, -0.5-5.97913037j])"
      ]
     },
     "execution_count": 5,
     "metadata": {},
     "output_type": "execute_result"
    }
   ],
   "source": [
    "p"
   ]
  },
  {
   "cell_type": "code",
   "execution_count": 6,
   "metadata": {},
   "outputs": [
    {
     "data": {
      "text/plain": [
       "array([-0.06224280+0.j,  0.34516461+0.j])"
      ]
     },
     "execution_count": 6,
     "metadata": {},
     "output_type": "execute_result"
    }
   ],
   "source": [
    "# poslednja dva su konjugovano kompleksna pa ih pakujemo u jedan razlomak\n",
    "res1=np.array([r[3], -p[4]*r[3]])+np.array([r[4], -p[3]*r[4]])\n",
    "res1"
   ]
  },
  {
   "cell_type": "code",
   "execution_count": 7,
   "metadata": {},
   "outputs": [
    {
     "data": {
      "text/plain": [
       "array([  1.+0.j,   1.+0.j,  36.+0.j])"
      ]
     },
     "execution_count": 7,
     "metadata": {},
     "output_type": "execute_result"
    }
   ],
   "source": [
    "# provera imenioca razlomka sa konjugovano kompleksnim polovima:\n",
    "b=sp.convolve([1, -p[3]],[1, -p[4]])\n",
    "b"
   ]
  },
  {
   "cell_type": "code",
   "execution_count": 8,
   "metadata": {
    "collapsed": true
   },
   "outputs": [],
   "source": [
    "#Finaln razvoj je dakle (r[0]*s+r[1])/s^2 +  r[2]/(s+3)  +  (res1[0]*s+res1[1])/(s^2+s+36)"
   ]
  }
 ],
 "metadata": {
  "kernelspec": {
   "display_name": "Python 3",
   "language": "python",
   "name": "python3"
  },
  "language_info": {
   "codemirror_mode": {
    "name": "ipython",
    "version": 3
   },
   "file_extension": ".py",
   "mimetype": "text/x-python",
   "name": "python",
   "nbconvert_exporter": "python",
   "pygments_lexer": "ipython3",
   "version": "3.6.3"
  }
 },
 "nbformat": 4,
 "nbformat_minor": 2
}
