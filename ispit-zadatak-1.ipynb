{
 "cells": [
  {
   "cell_type": "code",
   "execution_count": 46,
   "metadata": {
    "collapsed": false
   },
   "outputs": [],
   "source": [
    "import numpy as np\n",
    "import scipy as sp\n",
    "import matplotlib.pyplot as plt\n",
    "from scipy import signal\n",
    "\n",
    "# Davor Jordacevic 2016/201251"
   ]
  },
  {
   "cell_type": "code",
   "execution_count": 47,
   "metadata": {
    "collapsed": false
   },
   "outputs": [
    {
     "name": "stdout",
     "output_type": "stream",
     "text": [
      "A:\n",
      " [[-6. -8.  0.]\n",
      " [ 1.  0.  0.]\n",
      " [ 0.  1.  0.]]\n",
      "B:\n",
      " [[ 1.]\n",
      " [ 0.]\n",
      " [ 0.]]\n",
      "C:\n",
      " [[ 0.  1.  3.]]\n",
      "D:\n",
      " [[ 0.]]\n"
     ]
    }
   ],
   "source": [
    "# a)\n",
    "Ac=np.matrix([[-6.,-8.,0.],[1.,0.,0.],[0.,1.,0.]])\n",
    "Bc=np.matrix([[1.],[0.],[0.]])\n",
    "Cc=np.matrix([[0.,1.,3.]])\n",
    "Dc=np.matrix([[0.]])\n",
    "G=signal.lti(Ac,Bc,Cc,Dc)\n",
    "print('A:\\n',Ac)\n",
    "print('B:\\n',Bc)\n",
    "print('C:\\n',Cc)\n",
    "print('D:\\n',Dc)"
   ]
  },
  {
   "cell_type": "code",
   "execution_count": 48,
   "metadata": {
    "collapsed": false
   },
   "outputs": [
    {
     "name": "stdout",
     "output_type": "stream",
     "text": [
      "A:\n",
      " [[-6.  1.  0.]\n",
      " [-8.  0.  1.]\n",
      " [ 0.  0.  0.]]\n",
      "B:\n",
      " [[ 0.]\n",
      " [ 1.]\n",
      " [ 3.]]\n",
      "C:\n",
      " [[ 1.  0.  0.]]\n",
      "D:\n",
      " [[ 0.]]\n"
     ]
    }
   ],
   "source": [
    "# b)\n",
    "Ao=np.matrix([[-6.,1.,0.],[-8.,0.,1.],[0.,0.,0.]])\n",
    "Bo=np.matrix([[0.],[1.],[3.]])\n",
    "Co=np.matrix([[1.,0.,0.]])\n",
    "Do=np.matrix([[0.]])\n",
    "G=signal.lti(Ao,Bo,Co,Do)\n",
    "print('A:\\n',Ao)\n",
    "print('B:\\n',Bo)\n",
    "print('C:\\n',Co)\n",
    "print('D:\\n',Do)"
   ]
  },
  {
   "cell_type": "code",
   "execution_count": 49,
   "metadata": {
    "collapsed": false
   },
   "outputs": [
    {
     "data": {
      "text/plain": [
       "(array([-0.125, -0.25 ,  0.375]), array([-4., -2.,  0.]))"
      ]
     },
     "execution_count": 49,
     "metadata": {},
     "output_type": "execute_result"
    }
   ],
   "source": [
    "#c)\n",
    "brojilac= np.array([1,3])\n",
    "imenilac=np.array([1,6,8,0])\n",
    "r,p,k=signal.residue(brojilac, imenilac)\n",
    "r,p"
   ]
  },
  {
   "cell_type": "code",
   "execution_count": 50,
   "metadata": {
    "collapsed": false
   },
   "outputs": [
    {
     "name": "stdout",
     "output_type": "stream",
     "text": [
      "A:\n",
      " [[-4.  0.  0.]\n",
      " [ 0. -2.  0.]\n",
      " [ 0.  0.  0.]]\n",
      "B:\n",
      " [[ 1.]\n",
      " [ 1.]\n",
      " [ 1.]]\n",
      "C:\n",
      " [[-0.125 -0.25   0.375]]\n",
      "D:\n",
      " [[ 0.]]\n"
     ]
    }
   ],
   "source": [
    "#c)\n",
    "Ad=np.matrix([[p[0],0.,0.],[0.,p[1],0.],[0.,0.,p[2]]])\n",
    "Bd=np.matrix([[1.],[1.],[1.]])\n",
    "Cd=np.matrix([[r[0],r[1],r[2]]])\n",
    "Dd=np.matrix([[0.]])\n",
    "Gd=signal.lti(Ad, Bd, Cd,Dd)\n",
    "print('A:\\n',Ad)\n",
    "print('B:\\n',Bd)\n",
    "print('C:\\n',Cd)\n",
    "print('D:\\n',Dd)"
   ]
  },
  {
   "cell_type": "code",
   "execution_count": 51,
   "metadata": {
    "collapsed": false
   },
   "outputs": [
    {
     "data": {
      "text/plain": [
       "matrix([[ 0.125,  0.25 , -0.375],\n",
       "        [-0.5  , -0.5  ,  0.   ]])"
      ]
     },
     "execution_count": 51,
     "metadata": {},
     "output_type": "execute_result"
    }
   ],
   "source": [
    "#d)\n",
    "#Model je kontolabilan ukoliko mu je matrica kontrolabilnosti invertabilna\n",
    "#Model pod a je sigurno kontrolabilan\n",
    "CC= np.concatenate((Bo,Ao*Bo),axis=1)\n",
    "CC*-1\n",
    "# Model pod b je kontolabilan\n",
    "CC= np.concatenate((Bd,Ad*Bd),axis=1)\n",
    "CC*-1\n",
    "# Model pod c je kontolabilan\n",
    "\n",
    "#Model je opservabilan ukoliko mu je matrica opservabilnosti invertabilna\n",
    "#Model pod b je sigurno opservabilan\n",
    "OB= np.concatenate((Cc,Cc*Ac),axis=0)\n",
    "OB*-1\n",
    "# Model pod a je opservabilan\n",
    "OB= np.concatenate((Cd,Cd*Ad),axis=0)\n",
    "OB*-1\n",
    "# Model pod c je opservabilan"
   ]
  },
  {
   "cell_type": "code",
   "execution_count": null,
   "metadata": {
    "collapsed": true
   },
   "outputs": [],
   "source": []
  }
 ],
 "metadata": {
  "anaconda-cloud": {},
  "kernelspec": {
   "display_name": "Python [conda root]",
   "language": "python",
   "name": "conda-root-py"
  },
  "language_info": {
   "codemirror_mode": {
    "name": "ipython",
    "version": 3
   },
   "file_extension": ".py",
   "mimetype": "text/x-python",
   "name": "python",
   "nbconvert_exporter": "python",
   "pygments_lexer": "ipython3",
   "version": "3.5.2"
  }
 },
 "nbformat": 4,
 "nbformat_minor": 1
}
